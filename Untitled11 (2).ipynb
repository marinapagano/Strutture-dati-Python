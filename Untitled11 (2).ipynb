{
 "cells": [
  {
   "cell_type": "markdown",
   "id": "3984e6ff",
   "metadata": {},
   "source": [
    "# TIPI DI DATI E STRUTTURE IN PYTHON"
   ]
  },
  {
   "cell_type": "markdown",
   "id": "1293432d",
   "metadata": {},
   "source": [
    "I tipi di dati sono utilizzati per determinare i valori che una variabile può contenere e le operazioni che possono essere eseguite su di essa. Essi possono essere classificati in due categorie principali: semplici e composti (o sequenze)."
   ]
  },
  {
   "cell_type": "markdown",
   "id": "5b91c73c",
   "metadata": {},
   "source": [
    "# 1) I DATI SEMPLICI"
   ]
  },
  {
   "cell_type": "markdown",
   "id": "edfb131e",
   "metadata": {},
   "source": [
    "I tipi di dati semplici costituiscono le fondamenta dello sviluppo in Python, essenziali come in qualsiasi altro linguaggio di programmazione.\n",
    "\n",
    "\n",
    "\n",
    "\n",
    "\n"
   ]
  },
  {
   "cell_type": "markdown",
   "id": "9519bde5",
   "metadata": {},
   "source": [
    "I tipi di dati semplici includono:\n",
    "\n",
    "- Gli interi (int)\n",
    "- I numeri in virgola mobile (float)\n",
    "- I valori booleani (bool)\n",
    "- I numeri complessi (complex)\n",
    "- I numeri interi estesi (long)"
   ]
  },
  {
   "cell_type": "markdown",
   "id": "bae81f11",
   "metadata": {},
   "source": [
    "In altre parole, i tipi di dati semplici comprendono gli interi, i numeri decimali, i valori booleani, i numeri complessi e i numeri interi estesi.\n",
    "\n",
    "\n",
    "\n",
    "\n",
    "\n"
   ]
  },
  {
   "cell_type": "markdown",
   "id": "e0d61ce1",
   "metadata": {},
   "source": [
    "## - GLI INTEGER"
   ]
  },
  {
   "cell_type": "markdown",
   "id": "54026729",
   "metadata": {},
   "source": [
    "Gli integer (int) sono utilizzati per rappresentare valori interi, ovvero numeri senza parte decimale. Con gli integer, è possibile eseguire operazioni aritmetiche di base come l'addizione, la sottrazione, la moltiplicazione, la divisione e la potenza.\n",
    "\n",
    "\n",
    "\n",
    "\n",
    "\n"
   ]
  },
  {
   "cell_type": "code",
   "execution_count": 2,
   "id": "fd98c2fb",
   "metadata": {},
   "outputs": [
    {
     "name": "stdout",
     "output_type": "stream",
     "text": [
      "La potenza di 8 elevato a 2 è:\n",
      "64\n",
      "Il tipo di dato della potenza è:\n",
      "<class 'int'>\n"
     ]
    }
   ],
   "source": [
    "base = 8\n",
    "esponente = 2\n",
    "potenza = base ** esponente\n",
    "\n",
    "print(f\"La potenza di {base} elevato a {esponente} è:\")\n",
    "print(potenza)\n",
    "print(\"Il tipo di dato della potenza è:\")\n",
    "print(type(potenza))"
   ]
  },
  {
   "cell_type": "code",
   "execution_count": 9,
   "id": "b16d9c17",
   "metadata": {},
   "outputs": [
    {
     "name": "stdout",
     "output_type": "stream",
     "text": [
      "La differenza tra 15 e 7 è:\n",
      "8\n",
      "Il tipo di dato è:\n",
      "<class 'int'>\n"
     ]
    }
   ],
   "source": [
    "valore_a = 15\n",
    "valore_b = 7\n",
    "differenza = valore_a - valore_b\n",
    "\n",
    "print(f\"La differenza tra {valore_a} e {valore_b} è:\")\n",
    "print(differenza)\n",
    "print(\"Il tipo di dato è:\")\n",
    "print(type(differenza))"
   ]
  },
  {
   "cell_type": "code",
   "execution_count": 10,
   "id": "b2d8d52c",
   "metadata": {},
   "outputs": [
    {
     "name": "stdout",
     "output_type": "stream",
     "text": [
      "La somma di 12 e 5 è:\n",
      "17\n",
      "Il tipo di dato è:\n",
      "<class 'int'>\n"
     ]
    }
   ],
   "source": [
    "valore_a = 12\n",
    "valore_b = 5\n",
    "somma = valore_a + valore_b\n",
    "\n",
    "print(f\"La somma di {valore_a} e {valore_b} è:\")\n",
    "print(somma)\n",
    "print(\"Il tipo di dato è:\")\n",
    "print(type(somma))"
   ]
  },
  {
   "cell_type": "code",
   "execution_count": 11,
   "id": "cccd9a36",
   "metadata": {},
   "outputs": [
    {
     "name": "stdout",
     "output_type": "stream",
     "text": [
      "La divisione normale tra 20 e 4 è:\n",
      "5.0\n",
      "La divisione con solo la parte intera tra 20 e 4 è:\n",
      "5\n",
      "Il tipo di dato della divisione normale è:\n",
      "<class 'float'>\n",
      "Il tipo di dato della divisione con solo la parte intera è:\n",
      "<class 'int'>\n"
     ]
    }
   ],
   "source": [
    "valore_a = 20\n",
    "valore_b = 4\n",
    "divisione_normale = valore_a / valore_b\n",
    "divisione_intera = valore_a // valore_b\n",
    "\n",
    "print(f\"La divisione normale tra {valore_a} e {valore_b} è:\")\n",
    "print(divisione_normale)\n",
    "print(f\"La divisione con solo la parte intera tra {valore_a} e {valore_b} è:\")\n",
    "print(divisione_intera)\n",
    "print(\"Il tipo di dato della divisione normale è:\")\n",
    "print(type(divisione_normale))\n",
    "print(\"Il tipo di dato della divisione con solo la parte intera è:\")\n",
    "print(type(divisione_intera))"
   ]
  },
  {
   "cell_type": "code",
   "execution_count": 12,
   "id": "baac089e",
   "metadata": {},
   "outputs": [
    {
     "name": "stdout",
     "output_type": "stream",
     "text": [
      "Il prodotto tra 6 e 4 è:\n",
      "24\n",
      "Il tipo di dato del prodotto è:\n",
      "<class 'int'>\n"
     ]
    }
   ],
   "source": [
    "valore_primo_int = 6\n",
    "valore_secondo_int = 4\n",
    "risultato_moltiplicazione = valore_primo_int * valore_secondo_int\n",
    "\n",
    "print(f\"Il prodotto tra {valore_primo_int} e {valore_secondo_int} è:\")\n",
    "print(risultato_moltiplicazione)\n",
    "print(\"Il tipo di dato del prodotto è:\")\n",
    "print(type(risultato_moltiplicazione))\n"
   ]
  },
  {
   "cell_type": "markdown",
   "id": "c3e8dc1f",
   "metadata": {},
   "source": [
    "## - I FLOAT"
   ]
  },
  {
   "cell_type": "markdown",
   "id": "125d6af4",
   "metadata": {},
   "source": [
    "I float (float) sono utilizzati per rappresentare valori numerici con la presenza della virgola decimale. Con i float, è possibile effettuare le operazioni aritmetiche fondamentali come l'addizione, la sottrazione, la moltiplicazione, la divisione e la potenza.\n",
    "\n",
    "\n",
    "\n",
    "\n",
    "\n"
   ]
  },
  {
   "cell_type": "code",
   "execution_count": 3,
   "id": "a2ab5671",
   "metadata": {},
   "outputs": [
    {
     "name": "stdout",
     "output_type": "stream",
     "text": [
      "Il risultato della divisione tra 10.5 e 2.5 è:\n",
      "4.2\n",
      "Il tipo di dato è:\n",
      "<class 'float'>\n",
      "Il risultato della divisione intera tra 10.5 e 4 è:\n",
      "2.0\n",
      "Il tipo di dato è:\n",
      "<class 'float'>\n"
     ]
    }
   ],
   "source": [
    "valore_primo_float = 10.5\n",
    "valore_secondo_float = 2.5\n",
    "valore_terzo_int = 4\n",
    "\n",
    "risultato_divisione = valore_primo_float / valore_secondo_float\n",
    "risultato_divisione_intera = valore_primo_float // valore_terzo_int\n",
    "\n",
    "print(f\"Il risultato della divisione tra {valore_primo_float} e {valore_secondo_float} è:\")\n",
    "print(risultato_divisione)\n",
    "print(\"Il tipo di dato è:\")\n",
    "print(type(risultato_divisione))\n",
    "print(f\"Il risultato della divisione intera tra {valore_primo_float} e {valore_terzo_int} è:\")\n",
    "print(risultato_divisione_intera)\n",
    "print(\"Il tipo di dato è:\")\n",
    "print(type(risultato_divisione_intera))"
   ]
  },
  {
   "cell_type": "code",
   "execution_count": 13,
   "id": "9ad0e247",
   "metadata": {},
   "outputs": [
    {
     "name": "stdout",
     "output_type": "stream",
     "text": [
      "La somma tra 5.5 e 3.5 è:\n",
      "9.0\n",
      "Il tipo di dato della somma è:\n",
      "<class 'float'>\n",
      "La somma tra 5.5 e 2 è:\n",
      "7.5\n",
      "Il tipo di dato della somma è:\n",
      "<class 'float'>\n"
     ]
    }
   ],
   "source": [
    "valore_primo_float = 5.5\n",
    "valore_secondo_float = 3.5\n",
    "valore_terzo_int = 2\n",
    "\n",
    "somma_float = valore_primo_float + valore_secondo_float\n",
    "somma_float_int = valore_primo_float + valore_terzo_int\n",
    "\n",
    "print(f\"La somma tra {valore_primo_float} e {valore_secondo_float} è:\")\n",
    "print(somma_float)\n",
    "print(\"Il tipo di dato della somma è:\")\n",
    "print(type(somma_float))\n",
    "print(f\"La somma tra {valore_primo_float} e {valore_terzo_int} è:\")\n",
    "print(somma_float_int)\n",
    "print(\"Il tipo di dato della somma è:\")\n",
    "print(type(somma_float_int))\n"
   ]
  },
  {
   "cell_type": "code",
   "execution_count": 14,
   "id": "3f211f9c",
   "metadata": {},
   "outputs": [
    {
     "name": "stdout",
     "output_type": "stream",
     "text": [
      "La differenza tra 12.5 e 7.5 è:\n",
      "5.0\n",
      "Il tipo di dato della differenza è:\n",
      "<class 'float'>\n",
      "La differenza tra 12.5 e 4 è:\n",
      "8.5\n",
      "Il tipo di dato della differenza è:\n",
      "<class 'float'>\n"
     ]
    }
   ],
   "source": [
    "valore_primo_float = 12.5\n",
    "valore_secondo_float = 7.5\n",
    "valore_terzo_int = 4\n",
    "\n",
    "differenza_float = valore_primo_float - valore_secondo_float\n",
    "differenza_float_int = valore_primo_float - valore_terzo_int\n",
    "\n",
    "print(f\"La differenza tra {valore_primo_float} e {valore_secondo_float} è:\")\n",
    "print(differenza_float)\n",
    "print(\"Il tipo di dato della differenza è:\")\n",
    "print(type(differenza_float))\n",
    "print(f\"La differenza tra {valore_primo_float} e {valore_terzo_int} è:\")\n",
    "print(differenza_float_int)\n",
    "print(\"Il tipo di dato della differenza è:\")\n",
    "print(type(differenza_float_int))"
   ]
  },
  {
   "cell_type": "code",
   "execution_count": 15,
   "id": "51e6bdb5",
   "metadata": {},
   "outputs": [
    {
     "name": "stdout",
     "output_type": "stream",
     "text": [
      "Il prodotto tra 7.5 e 3.2 è:\n",
      "24.0\n",
      "Il tipo di dato del prodotto è:\n",
      "<class 'float'>\n",
      "Il prodotto tra 7.5 e 2 è:\n",
      "15.0\n",
      "Il tipo di dato del prodotto è:\n",
      "<class 'float'>\n"
     ]
    }
   ],
   "source": [
    "valore_primo_float = 7.5\n",
    "valore_secondo_float = 3.2\n",
    "valore_terzo_int = 2\n",
    "\n",
    "prodotto_float = valore_primo_float * valore_secondo_float\n",
    "prodotto_float_int = valore_primo_float * valore_terzo_int\n",
    "\n",
    "print(f\"Il prodotto tra {valore_primo_float} e {valore_secondo_float} è:\")\n",
    "print(prodotto_float)\n",
    "print(\"Il tipo di dato del prodotto è:\")\n",
    "print(type(prodotto_float))\n",
    "print(f\"Il prodotto tra {valore_primo_float} e {valore_terzo_int} è:\")\n",
    "print(prodotto_float_int)\n",
    "print(\"Il tipo di dato del prodotto è:\")\n",
    "print(type(prodotto_float_int))"
   ]
  },
  {
   "cell_type": "code",
   "execution_count": 16,
   "id": "1027ad98",
   "metadata": {},
   "outputs": [
    {
     "name": "stdout",
     "output_type": "stream",
     "text": [
      "La potenza di 5.0 e 3.0 è:\n",
      "125.0\n",
      "Il tipo di dato della potenza è:\n",
      "<class 'float'>\n",
      "La divisione intera tra 5.0 e 2 è:\n",
      "2.0\n",
      "Il tipo di dato della divisione intera è:\n",
      "<class 'float'>\n"
     ]
    }
   ],
   "source": [
    "valore_primo_float = 5.0\n",
    "valore_secondo_float = 3.0\n",
    "valore_terzo_int = 2\n",
    "\n",
    "potenza = valore_primo_float ** valore_secondo_float\n",
    "divisione_intera = valore_primo_float // valore_terzo_int\n",
    "\n",
    "print(f\"La potenza di {valore_primo_float} e {valore_secondo_float} è:\")\n",
    "print(potenza)\n",
    "print(\"Il tipo di dato della potenza è:\")\n",
    "print(type(potenza))\n",
    "print(f\"La divisione intera tra {valore_primo_float} e {valore_terzo_int} è:\")\n",
    "print(divisione_intera)\n",
    "print(\"Il tipo di dato della divisione intera è:\")\n",
    "print(type(divisione_intera))\n"
   ]
  },
  {
   "cell_type": "markdown",
   "id": "5ab77f34",
   "metadata": {},
   "source": [
    "## - I BOOLEANI"
   ]
  },
  {
   "cell_type": "markdown",
   "id": "95114061",
   "metadata": {},
   "source": [
    "I booleani (bool) sono utilizzati per rappresentare valori di verità, ovvero True o False. Con i booleani, è possibile eseguire operazioni logiche fondamentali come l'and, l'or e il not.\n",
    "\n",
    "\n",
    "\n",
    "\n",
    "\n"
   ]
  },
  {
   "cell_type": "markdown",
   "id": "4114e932",
   "metadata": {},
   "source": [
    "##### O LOGICO"
   ]
  },
  {
   "cell_type": "code",
   "execution_count": 4,
   "id": "f6149116",
   "metadata": {},
   "outputs": [
    {
     "name": "stdout",
     "output_type": "stream",
     "text": [
      "L'OR di True e False è:\n",
      "True\n",
      "L'OR di True e True è:\n",
      "True\n",
      "L'OR di False e True è:\n",
      "True\n",
      "L'OR di False e False è:\n",
      "False\n"
     ]
    }
   ],
   "source": [
    "valore_true = True\n",
    "valore_false = False\n",
    "\n",
    "## COSTRUIAMO UNA TABELLA DELLA VERITA' PER L'OR \n",
    "\n",
    "print(f\"L'OR di {valore_true} e {valore_false} è:\")\n",
    "risultato_or = valore_true or valore_false\n",
    "print(risultato_or)\n",
    "print(f\"L'OR di {valore_true} e {valore_true} è:\")\n",
    "risultato_or = valore_true or valore_true\n",
    "print(risultato_or)\n",
    "print(f\"L'OR di {valore_false} e {valore_true} è:\")\n",
    "risultato_or = valore_false or valore_true\n",
    "print(risultato_or)\n",
    "print(f\"L'OR di {valore_false} e {valore_false} è:\")\n",
    "risultato_or = valore_false or valore_false\n",
    "print(risultato_or)"
   ]
  },
  {
   "cell_type": "markdown",
   "id": "ed78ef81",
   "metadata": {},
   "source": [
    "##### E LOGICA"
   ]
  },
  {
   "cell_type": "code",
   "execution_count": 5,
   "id": "3fa927b8",
   "metadata": {},
   "outputs": [
    {
     "name": "stdout",
     "output_type": "stream",
     "text": [
      "L'AND di True e False è:\n",
      "False\n",
      "L'AND di True e True è:\n",
      "True\n",
      "L'AND di False e True è:\n",
      "False\n",
      "L'AND di False e False è:\n",
      "False\n"
     ]
    }
   ],
   "source": [
    "valore_true = True\n",
    "valore_false = False\n",
    "\n",
    "## COSTRUIAMO UNA TABELLA DELLA VERITA' PER L'AND \n",
    "\n",
    "print(f\"L'AND di {valore_true} e {valore_false} è:\")\n",
    "risultato_and = valore_true and valore_false\n",
    "print(risultato_and)\n",
    "print(f\"L'AND di {valore_true} e {valore_true} è:\")\n",
    "risultato_and = valore_true and valore_true\n",
    "print(risultato_and)\n",
    "print(f\"L'AND di {valore_false} e {valore_true} è:\")\n",
    "risultato_and = valore_false and valore_true\n",
    "print(risultato_and)\n",
    "print(f\"L'AND di {valore_false} e {valore_false} è:\")\n",
    "risultato_and = valore_false and valore_false\n",
    "print(risultato_and)"
   ]
  },
  {
   "cell_type": "markdown",
   "id": "8f3513bf",
   "metadata": {},
   "source": [
    "##### NOT "
   ]
  },
  {
   "cell_type": "code",
   "execution_count": 6,
   "id": "a4839840",
   "metadata": {},
   "outputs": [
    {
     "name": "stdout",
     "output_type": "stream",
     "text": [
      "Il not di True è:\n",
      "False\n",
      "Il not di False è:\n",
      "True\n"
     ]
    }
   ],
   "source": [
    "valore_true = True\n",
    "valore_false = False\n",
    "\n",
    "print(f\"Il not di {valore_true} è:\")\n",
    "risultato_not_true = not valore_true\n",
    "print(risultato_not_true)\n",
    "print(f\"Il not di {valore_false} è:\")\n",
    "risultato_not_false = not valore_false\n",
    "print(risultato_not_false)"
   ]
  },
  {
   "cell_type": "markdown",
   "id": "53d0f28d",
   "metadata": {},
   "source": [
    "## - I NUMERI COMPLESSI"
   ]
  },
  {
   "cell_type": "markdown",
   "id": "c7adcd84",
   "metadata": {},
   "source": [
    "I complessi (complex) sono utilizzati per rappresentare valori di variabili corrispondenti a numeri complessi. Con i numeri complessi, è possibile eseguire operazioni aritmetiche di base come l'addizione, la sottrazione, la moltiplicazione e la divisione."
   ]
  },
  {
   "cell_type": "code",
   "execution_count": 7,
   "id": "5ac0e3f3",
   "metadata": {},
   "outputs": [
    {
     "name": "stdout",
     "output_type": "stream",
     "text": [
      "La divisione tra (3+3j) e (2+2j) è:\n",
      "(1.5+0j)\n",
      "Il tipo di dato è:\n",
      "<class 'complex'>\n",
      "La divisione tra (3+3j) e 3.0 è:\n",
      "(1+1j)\n",
      "Il tipo di dato è:\n",
      "<class 'complex'>\n"
     ]
    }
   ],
   "source": [
    "complesso_1 = 3 + 1j*3\n",
    "complesso_2 = 2 + 1j*2\n",
    "float_1 = 3.0\n",
    "\n",
    "risultato_complessi = complesso_1 / complesso_2\n",
    "risultato_complesso_float = complesso_1 / float_1\n",
    "\n",
    "print(f\"La divisione tra {complesso_1} e {complesso_2} è:\")\n",
    "print(risultato_complessi)\n",
    "print(\"Il tipo di dato è:\")\n",
    "print(type(risultato_complessi))\n",
    "print(f\"La divisione tra {complesso_1} e {float_1} è:\")\n",
    "print(risultato_complesso_float)\n",
    "print(\"Il tipo di dato è:\")\n",
    "print(type(risultato_complesso_float))"
   ]
  },
  {
   "cell_type": "code",
   "execution_count": 8,
   "id": "3ba8c983",
   "metadata": {},
   "outputs": [
    {
     "name": "stdout",
     "output_type": "stream",
     "text": [
      "La differenza tra (5+4j) e (1+1j) è:\n",
      "(4+3j)\n",
      "Il tipo di dato è:\n",
      "<class 'complex'>\n",
      "La differenza tra (5+4j) e 2.5 è:\n",
      "(2.5+4j)\n",
      "Il tipo di dato è:\n",
      "<class 'complex'>\n"
     ]
    }
   ],
   "source": [
    "complesso_1 = 5 + 1j*4\n",
    "complesso_2 = 1 + 1j*1\n",
    "float_1 = 2.5\n",
    "\n",
    "differenza_complessi = complesso_1 - complesso_2\n",
    "differenza_complesso_float = complesso_1 - float_1\n",
    "\n",
    "print(f\"La differenza tra {complesso_1} e {complesso_2} è:\")\n",
    "print(differenza_complessi)\n",
    "print(\"Il tipo di dato è:\")\n",
    "print(type(differenza_complessi))\n",
    "print(f\"La differenza tra {complesso_1} e {float_1} è:\")\n",
    "print(differenza_complesso_float)\n",
    "print(\"Il tipo di dato è:\")\n",
    "print(type(differenza_complesso_float))"
   ]
  },
  {
   "cell_type": "code",
   "execution_count": 17,
   "id": "56e5ea3a",
   "metadata": {},
   "outputs": [
    {
     "name": "stdout",
     "output_type": "stream",
     "text": [
      "Somma: (4+1j)\n",
      "Differenza: (2+3j)\n",
      "Prodotto: (5-1j)\n",
      "Divisione: (0.5+2.5j)\n"
     ]
    }
   ],
   "source": [
    "# Definizione dei numeri complessi\n",
    "complesso_1 = 3 + 2j\n",
    "complesso_2 = 1 - 1j\n",
    "\n",
    "# Operazioni aritmetiche sui numeri complessi\n",
    "somma = complesso_1 + complesso_2\n",
    "differenza = complesso_1 - complesso_2\n",
    "prodotto = complesso_1 * complesso_2\n",
    "divisione = complesso_1 / complesso_2\n",
    "\n",
    "# Stampare i risultati\n",
    "print(\"Somma:\", somma)\n",
    "print(\"Differenza:\", differenza)\n",
    "print(\"Prodotto:\", prodotto)\n",
    "print(\"Divisione:\", divisione)"
   ]
  },
  {
   "cell_type": "code",
   "execution_count": 18,
   "id": "ed1065d1",
   "metadata": {},
   "outputs": [
    {
     "name": "stdout",
     "output_type": "stream",
     "text": [
      "Somma: (3+1j)\n",
      "Differenza: (1+5j)\n",
      "Prodotto: (8-1j)\n",
      "Divisione: (-0.8+1.4j)\n"
     ]
    }
   ],
   "source": [
    "# Definizione dei numeri complessi\n",
    "complesso_a = 2 + 3j\n",
    "complesso_b = 1 - 2j\n",
    "\n",
    "# Operazioni aritmetiche sui numeri complessi\n",
    "somma = complesso_a + complesso_b\n",
    "differenza = complesso_a - complesso_b\n",
    "prodotto = complesso_a * complesso_b\n",
    "divisione = complesso_a / complesso_b\n",
    "\n",
    "# Stampare i risultati\n",
    "print(\"Somma:\", somma)\n",
    "print(\"Differenza:\", differenza)\n",
    "print(\"Prodotto:\", prodotto)\n",
    "print(\"Divisione:\", divisione)\n"
   ]
  },
  {
   "cell_type": "markdown",
   "id": "7d5b04c2",
   "metadata": {},
   "source": [
    "# 2) SEQUENZE"
   ]
  },
  {
   "cell_type": "markdown",
   "id": "93d7f96e",
   "metadata": {},
   "source": [
    "Le sequenze sono tipi di dati più elaborati rispetto a quelli semplici e mantengono un ordine specifico di elementi, che possono includere sia tipi di dati semplici che complessi. Tuttavia, va notato che le stringhe sono un'eccezione a questa regola, in quanto rappresentano sequenze di caratteri che formano parole o frasi.\n",
    "\n",
    "Le sequenze possono essere classificate in due categorie principali: mutabili e immutabili. La distinzione fondamentale tra le due risiede nel fatto che le sequenze mutabili consentono modifiche ai loro elementi dopo la creazione, mentre le sequenze immutabili mantengono i loro elementi invariati una volta creati.\n",
    "\n",
    "\n",
    "\n",
    "\n",
    "\n"
   ]
  },
  {
   "cell_type": "markdown",
   "id": "40600b1c",
   "metadata": {},
   "source": [
    "Le sequenze mutabili includono:\n",
    "\n",
    "- Le liste (list)\n",
    "- I dizionari (dict)\n",
    "- Gli insiemi (set)\n",
    "- I file (file)"
   ]
  },
  {
   "cell_type": "markdown",
   "id": "c17f4991",
   "metadata": {},
   "source": [
    "In altre parole, le sequenze mutabili sono rappresentate dalle liste, dai dizionari, dagli insiemi e dai file, che consentono modifiche ai loro contenuti dopo la creazione.\n",
    "\n",
    "\n",
    "\n",
    "\n",
    "\n"
   ]
  },
  {
   "cell_type": "markdown",
   "id": "49e71268",
   "metadata": {},
   "source": [
    "Le sequenze immutabili includono:\n",
    "\n",
    "- Le stringhe (str)\n",
    "- Le tuple (tuple)\n",
    "- Gli insiemi immutabili (frozenset)"
   ]
  },
  {
   "cell_type": "markdown",
   "id": "ab8738e8",
   "metadata": {},
   "source": [
    "In altre parole, le sequenze immutabili comprendono le stringhe, le tuple e gli insiemi immutabili, i quali non possono essere modificati una volta creati.\n",
    "\n",
    "\n",
    "\n",
    "\n",
    "\n"
   ]
  },
  {
   "cell_type": "markdown",
   "id": "0e38689f",
   "metadata": {},
   "source": [
    "## - LISTE MUTABILI"
   ]
  },
  {
   "cell_type": "markdown",
   "id": "0cae1983",
   "metadata": {},
   "source": [
    "### - LE LISTE"
   ]
  },
  {
   "cell_type": "markdown",
   "id": "c5f935cb",
   "metadata": {},
   "source": [
    "Una lista è una struttura dati che può contenere una collezione ordinata di elementi. Gli elementi all'interno di una lista possono essere di qualsiasi tipo di dati, inclusi numeri, stringhe, liste annidate, tuple, dizionari, oggetti e così via. Le liste sono definite tra parentesi quadre [] e gli elementi sono separati da virgole.\n",
    "\n"
   ]
  },
  {
   "cell_type": "markdown",
   "id": "8effea57",
   "metadata": {},
   "source": [
    "Le liste sono dinamiche e possono essere modificate dopo la loro creazione. È possibile aggiungere, rimuovere e modificare gli elementi all'interno di una lista in base alle esigenze del programma."
   ]
  },
  {
   "cell_type": "code",
   "execution_count": 19,
   "id": "1a37cb4c",
   "metadata": {},
   "outputs": [
    {
     "name": "stdout",
     "output_type": "stream",
     "text": [
      "[1, 2, 3, 4, 5]\n",
      "['ciao', 'mondo', '!']\n",
      "[1, 'due', 3.0, [4, 5]]\n"
     ]
    }
   ],
   "source": [
    "lista_numeri = [1, 2, 3, 4, 5]\n",
    "lista_stringhe = [\"ciao\", \"mondo\", \"!\"]\n",
    "lista_mista = [1, \"due\", 3.0, [4, 5]]\n",
    "\n",
    "print(lista_numeri)  # Output: [1, 2, 3, 4, 5]\n",
    "print(lista_stringhe)  # Output: ['ciao', 'mondo', '!']\n",
    "print(lista_mista)  # Output: [1, 'due', 3.0, [4, 5]]"
   ]
  },
  {
   "cell_type": "code",
   "execution_count": 26,
   "id": "d9f79190",
   "metadata": {},
   "outputs": [
    {
     "name": "stdout",
     "output_type": "stream",
     "text": [
      "1\n",
      "3\n",
      "5\n"
     ]
    }
   ],
   "source": [
    "# Creazione di una lista e accesso agli elementi\n",
    "# Definizione di una lista di numeri\n",
    "numeri = [1, 2, 3, 4, 5]\n",
    "\n",
    "# Accesso agli elementi della lista tramite indicizzazione\n",
    "print(numeri[0])  # Output: 1\n",
    "print(numeri[2])  # Output: 3\n",
    "print(numeri[-1])  # Output: 5 (elemento dall'ultimo)\n"
   ]
  },
  {
   "cell_type": "code",
   "execution_count": 27,
   "id": "e1cca077",
   "metadata": {},
   "outputs": [
    {
     "name": "stdout",
     "output_type": "stream",
     "text": [
      "['ciao', 'Python', '!']\n"
     ]
    }
   ],
   "source": [
    "# Modifica degli elementi di una lista\n",
    "# Definizione di una lista di stringhe\n",
    "stringhe = [\"ciao\", \"mondo\", \"!\"]\n",
    "\n",
    "# Modifica di un elemento della lista\n",
    "stringhe[1] = \"Python\"\n",
    "print(stringhe)  # Output: ['ciao', 'Python', '!']"
   ]
  },
  {
   "cell_type": "code",
   "execution_count": 28,
   "id": "63dcf5dc",
   "metadata": {},
   "outputs": [
    {
     "name": "stdout",
     "output_type": "stream",
     "text": [
      "[1, 2, 3, 4, 5, 6]\n",
      "[1, 2, 4, 5, 6]\n"
     ]
    }
   ],
   "source": [
    "# Aggiunta e rimozione di elementi da una lista\n",
    "# Aggiunta di un elemento alla fine della lista\n",
    "numeri.append(6)\n",
    "print(numeri)  # Output: [1, 2, 3, 4, 5, 6]\n",
    "\n",
    "# Rimozione di un elemento dalla lista\n",
    "numeri.remove(3)\n",
    "print(numeri)  # Output: [1, 2, 4, 5, 6]"
   ]
  },
  {
   "cell_type": "code",
   "execution_count": null,
   "id": "90507c25",
   "metadata": {},
   "outputs": [],
   "source": [
    "# Iterazione attraverso una lista\n",
    "# Iterazione attraverso gli elementi della lista\n",
    "for numero in numeri:\n",
    "    print(numero)"
   ]
  },
  {
   "cell_type": "code",
   "execution_count": 29,
   "id": "1a8b516b",
   "metadata": {},
   "outputs": [
    {
     "name": "stdout",
     "output_type": "stream",
     "text": [
      "[1, 2, 3, 4, 5, 6]\n"
     ]
    }
   ],
   "source": [
    "# Unione di liste\n",
    "# Definizione di due liste\n",
    "lista1 = [1, 2, 3]\n",
    "lista2 = [4, 5, 6]\n",
    "\n",
    "# Unione delle due liste\n",
    "lista_unione = lista1 + lista2\n",
    "print(lista_unione)  # Output: [1, 2, 3, 4, 5, 6]"
   ]
  },
  {
   "cell_type": "markdown",
   "id": "f273be3e",
   "metadata": {},
   "source": [
    "### - I DIZIONARI"
   ]
  },
  {
   "cell_type": "markdown",
   "id": "3a15617a",
   "metadata": {},
   "source": [
    "Un dizionario è una struttura dati che consente di memorizzare una collezione di coppie chiave-valore. Le chiavi all'interno di un dizionario devono essere uniche e immutabili, mentre i valori possono essere di qualsiasi tipo di dato, inclusi numeri, stringhe, liste, tuple, dizionari, oggetti e così via. I dizionari sono definiti tra parentesi graffe {} e le coppie chiave-valore sono separate da virgole, con ogni coppia chiave-valore separata da due punti :."
   ]
  },
  {
   "cell_type": "code",
   "execution_count": 20,
   "id": "5a8a9e3c",
   "metadata": {},
   "outputs": [
    {
     "name": "stdout",
     "output_type": "stream",
     "text": [
      "{'nome': 'Mario', 'cognome': 'Rossi', 'età': 30, 'indirizzo': {'via': 'Via Roma', 'città': 'Roma', 'CAP': '00100'}}\n"
     ]
    }
   ],
   "source": [
    "dizionario = {\n",
    "    \"nome\": \"Mario\",\n",
    "    \"cognome\": \"Rossi\",\n",
    "    \"età\": 30,\n",
    "    \"indirizzo\": {\n",
    "        \"via\": \"Via Roma\",\n",
    "        \"città\": \"Roma\",\n",
    "        \"CAP\": \"00100\"\n",
    "    }\n",
    "}\n",
    "\n",
    "print(dizionario)  # Output: {'nome': 'Mario', 'cognome': 'Rossi', 'età': 30, 'indirizzo': {'via': 'Via Roma', 'città': 'Roma', 'CAP': '00100'}}\n"
   ]
  },
  {
   "cell_type": "code",
   "execution_count": 30,
   "id": "17589ba2",
   "metadata": {},
   "outputs": [
    {
     "name": "stdout",
     "output_type": "stream",
     "text": [
      "30\n",
      "25\n"
     ]
    }
   ],
   "source": [
    "# Creazione di un dizionario e accesso ai valori tramite chiavi\n",
    "# Definizione di un dizionario di persone con nome e età\n",
    "persone = {\n",
    "    \"Alice\": 30,\n",
    "    \"Bob\": 25,\n",
    "    \"Charlie\": 35\n",
    "}\n",
    "\n",
    "# Accesso ai valori tramite chiavi\n",
    "print(persone[\"Alice\"])  # Output: 30\n",
    "print(persone[\"Bob\"])  # Output: 25"
   ]
  },
  {
   "cell_type": "code",
   "execution_count": 31,
   "id": "232d04f7",
   "metadata": {},
   "outputs": [
    {
     "name": "stdout",
     "output_type": "stream",
     "text": [
      "{'Alice': 30, 'Bob': 25, 'Charlie': 35, 'David': 40}\n",
      "{'Alice': 30, 'Charlie': 35, 'David': 40}\n"
     ]
    }
   ],
   "source": [
    "# Aggiunta e rimozione di elementi da un dizionario\n",
    "# Aggiunta di un nuovo elemento al dizionario\n",
    "persone[\"David\"] = 40\n",
    "print(persone)  # Output: {'Alice': 30, 'Bob': 25, 'Charlie': 35, 'David': 40}\n",
    "\n",
    "# Rimozione di un elemento dal dizionario\n",
    "del persone[\"Bob\"]\n",
    "print(persone)  # Output: {'Alice': 30, 'Charlie': 35, 'David': 40}"
   ]
  },
  {
   "cell_type": "code",
   "execution_count": 32,
   "id": "4d0d6ee4",
   "metadata": {},
   "outputs": [
    {
     "name": "stdout",
     "output_type": "stream",
     "text": [
      "Alice 30\n",
      "Charlie 35\n",
      "David 40\n"
     ]
    }
   ],
   "source": [
    "# Iterazione attraverso un dizionario\n",
    "# Iterazione attraverso le chiavi del dizionario\n",
    "for nome in persone:\n",
    "    print(nome, persone[nome])"
   ]
  },
  {
   "cell_type": "code",
   "execution_count": 33,
   "id": "6b7ab4ed",
   "metadata": {},
   "outputs": [
    {
     "name": "stdout",
     "output_type": "stream",
     "text": [
      "Alice è nel dizionario\n"
     ]
    }
   ],
   "source": [
    "# Controllo dell'esistenza di una chiave in un dizionario\n",
    "# Verifica se una chiave esiste nel dizionario\n",
    "if \"Alice\" in persone:\n",
    "    print(\"Alice è nel dizionario\")"
   ]
  },
  {
   "cell_type": "code",
   "execution_count": null,
   "id": "0c03a147",
   "metadata": {},
   "outputs": [],
   "source": [
    "# Ottenere una lista di chiavi o valori da un dizionario\n",
    "# Ottenere una lista di chiavi dal dizionario\n",
    "chiavi = persone.keys()\n",
    "print(chiavi)  # Output: dict_keys(['Alice', 'Charlie', 'David'])\n",
    "\n",
    "# Ottenere una lista di valori dal dizionario\n",
    "valori = persone.values()\n",
    "print(valori)  # Output: dict_values([30, 35, 40])\n"
   ]
  },
  {
   "cell_type": "markdown",
   "id": "b53c8b83",
   "metadata": {},
   "source": [
    "### - GLI INSIEMI"
   ]
  },
  {
   "cell_type": "markdown",
   "id": "c8c13688",
   "metadata": {},
   "source": [
    "Un insieme è una struttura dati non ordinata che contiene elementi unici. Gli insiemi sono definiti tra parentesi graffe {} e gli elementi sono separati da virgole. Gli insiemi possono contenere elementi di qualsiasi tipo di dato immutabile, come numeri, stringhe, tuple, ma non possono contenere elementi mutabili come liste o altri insiemi.\n",
    "\n"
   ]
  },
  {
   "cell_type": "markdown",
   "id": "94a62693",
   "metadata": {},
   "source": [
    "Gli insiemi supportano operazioni come unione, intersezione, differenza e verifica di appartenenza. Essi sono utilizzati quando è necessario memorizzare una collezione di elementi unici e l'ordine degli elementi non è importante."
   ]
  },
  {
   "cell_type": "code",
   "execution_count": 21,
   "id": "238419d7",
   "metadata": {},
   "outputs": [
    {
     "name": "stdout",
     "output_type": "stream",
     "text": [
      "{1, 2, 3, 4, 5}\n",
      "{'mondo', 'ciao', '!'}\n",
      "{1, 3.0, 'due'}\n"
     ]
    }
   ],
   "source": [
    "insieme_numeri = {1, 2, 3, 4, 5}\n",
    "insieme_stringhe = {\"ciao\", \"mondo\", \"!\"}\n",
    "insieme_misto = {1, \"due\", 3.0}\n",
    "\n",
    "print(insieme_numeri)  # Output: {1, 2, 3, 4, 5}\n",
    "print(insieme_stringhe)  # Output: {'ciao', 'mondo', '!'}\n",
    "print(insieme_misto)  # Output: {'due', 1, 3.0}"
   ]
  },
  {
   "cell_type": "code",
   "execution_count": 34,
   "id": "a794ffbd",
   "metadata": {},
   "outputs": [
    {
     "name": "stdout",
     "output_type": "stream",
     "text": [
      "1\n",
      "2\n",
      "3\n",
      "4\n",
      "5\n"
     ]
    }
   ],
   "source": [
    "# Creazione di un insieme e accesso agli elementi\n",
    "# Definizione di un insieme di numeri\n",
    "insieme_numeri = {1, 2, 3, 4, 5}\n",
    "\n",
    "# Accesso agli elementi dell'insieme\n",
    "for numero in insieme_numeri:\n",
    "    print(numero)"
   ]
  },
  {
   "cell_type": "code",
   "execution_count": 35,
   "id": "b92ba748",
   "metadata": {},
   "outputs": [
    {
     "name": "stdout",
     "output_type": "stream",
     "text": [
      "{1, 2, 3, 4, 5, 6}\n",
      "{1, 2, 4, 5, 6}\n"
     ]
    }
   ],
   "source": [
    "# Aggiunta e rimozione di elementi da un insieme\n",
    "# Aggiunta di un elemento all'insieme\n",
    "insieme_numeri.add(6)\n",
    "print(insieme_numeri)  # Output: {1, 2, 3, 4, 5, 6}\n",
    "\n",
    "# Rimozione di un elemento dall'insieme\n",
    "insieme_numeri.remove(3)\n",
    "print(insieme_numeri)  # Output: {1, 2, 4, 5, 6}"
   ]
  },
  {
   "cell_type": "code",
   "execution_count": 36,
   "id": "9c5a0a88",
   "metadata": {},
   "outputs": [
    {
     "name": "stdout",
     "output_type": "stream",
     "text": [
      "{1, 2, 3, 4, 5, 6, 7, 8}\n",
      "{4, 5}\n",
      "{1, 2, 3}\n"
     ]
    }
   ],
   "source": [
    "# Unione, intersezione e differenza tra insiemi\n",
    "# Definizione di due insiemi\n",
    "insieme1 = {1, 2, 3, 4, 5}\n",
    "insieme2 = {4, 5, 6, 7, 8}\n",
    "\n",
    "# Unione degli insiemi\n",
    "insieme_unione = insieme1.union(insieme2)\n",
    "print(insieme_unione)  # Output: {1, 2, 3, 4, 5, 6, 7, 8}\n",
    "\n",
    "# Intersezione degli insiemi\n",
    "insieme_intersezione = insieme1.intersection(insieme2)\n",
    "print(insieme_intersezione)  # Output: {4, 5}\n",
    "\n",
    "# Differenza tra gli insiemi\n",
    "insieme_differenza = insieme1.difference(insieme2)\n",
    "print(insieme_differenza)  # Output: {1, 2, 3}\n"
   ]
  },
  {
   "cell_type": "code",
   "execution_count": 38,
   "id": "17fc27ac",
   "metadata": {},
   "outputs": [
    {
     "name": "stdout",
     "output_type": "stream",
     "text": [
      "insieme1 è un sottoinsieme di insieme_unione\n"
     ]
    }
   ],
   "source": [
    "# Verifica di appartenenza e confronto tra insiemi\n",
    "# Verifica se un elemento appartiene all'insieme\n",
    "if 3 in insieme_numeri:\n",
    "    print(\"3 appartiene all'insieme\")\n",
    "\n",
    "# Verifica se un insieme è un sottoinsieme di un altro\n",
    "if insieme1.issubset(insieme_unione):\n",
    "    print(\"insieme1 è un sottoinsieme di insieme_unione\")\n"
   ]
  },
  {
   "cell_type": "markdown",
   "id": "d756ca98",
   "metadata": {},
   "source": [
    "### - I FILE"
   ]
  },
  {
   "cell_type": "markdown",
   "id": "0a3cb111",
   "metadata": {},
   "source": [
    "Un file è un'entità utilizzata per memorizzare dati in modo permanente su un dispositivo di archiviazione, come un disco rigido. I file possono contenere dati di qualsiasi tipo, come testo, immagini, audio, video, ecc.\n",
    "\n",
    "Per manipolare i file, è necessario aprire il file utilizzando la funzione open() che restituisce un oggetto file. Una volta aperto il file, è possibile leggere il suo contenuto, scriverci o effettuare altre operazioni, come chiuderlo."
   ]
  },
  {
   "cell_type": "code",
   "execution_count": null,
   "id": "951d4591",
   "metadata": {},
   "outputs": [],
   "source": [
    "# Apri il file in lettura\n",
    "with open('file.txt', 'r') as file:\n",
    "    # Leggi il contenuto del file riga per riga\n",
    "    for riga in file:\n",
    "        print(riga.strip())  # Rimuovi il carattere newline dalla riga e stampala\n"
   ]
  },
  {
   "cell_type": "code",
   "execution_count": null,
   "id": "0dcab8fb",
   "metadata": {},
   "outputs": [],
   "source": [
    "# Scrittura di testo su un file\n",
    "# Apertura del file in modalità scrittura\n",
    "with open('output.txt', 'w') as file:\n",
    "    # Scrittura di testo nel file\n",
    "    file.write(\"Questo è un esempio di testo scritto su un file.\\n\")\n",
    "    file.write(\"Seconda riga di testo.\\n\")\n"
   ]
  },
  {
   "cell_type": "code",
   "execution_count": null,
   "id": "d4849378",
   "metadata": {},
   "outputs": [],
   "source": [
    "# Lettura di un file JSON e decodifica del suo contenuto\n",
    "import json\n",
    "\n",
    "# Apertura del file JSON in modalità lettura\n",
    "with open('data.json', 'r') as file:\n",
    "    # Decodifica del contenuto JSON\n",
    "    dati = json.load(file)\n",
    "\n",
    "# Stampa del contenuto decodificato\n",
    "print(dati)\n"
   ]
  },
  {
   "cell_type": "code",
   "execution_count": null,
   "id": "28439344",
   "metadata": {},
   "outputs": [],
   "source": [
    "# Scrittura di dati in formato JSON su un file\n",
    "import json\n",
    "\n",
    "# Dati da scrivere su file JSON\n",
    "dati = {\n",
    "    \"nome\": \"Alice\",\n",
    "    \"età\": 30,\n",
    "    \"città\": \"Roma\"\n",
    "}\n",
    "\n",
    "# Apertura del file JSON in modalità scrittura\n",
    "with open('output.json', 'w') as file:\n",
    "    # Scrittura dei dati in formato JSON\n",
    "    json.dump(dati, file)\n"
   ]
  },
  {
   "cell_type": "markdown",
   "id": "be40c7c8",
   "metadata": {},
   "source": [
    "## - LISTE IMMUTABILI"
   ]
  },
  {
   "cell_type": "markdown",
   "id": "2f84347f",
   "metadata": {},
   "source": [
    "### - LE STRINGHE"
   ]
  },
  {
   "cell_type": "markdown",
   "id": "384a52e2",
   "metadata": {},
   "source": [
    "Una stringa è una sequenza di caratteri immutabile, che può essere utilizzata per rappresentare testo. Le stringhe sono definite tra virgolette singole (') o doppie (\"), e possono contenere qualsiasi tipo di carattere, come lettere, numeri, simboli e spazi.\n",
    "\n"
   ]
  },
  {
   "cell_type": "markdown",
   "id": "3775740d",
   "metadata": {},
   "source": [
    "Le stringhe supportano molte operazioni, come l'accesso agli elementi attraverso l'indicizzazione, il taglio delle sottostringhe, la concatenazione, la ripetizione, la ricerca di sottostringhe, la sostituzione e molto altro. Sono uno dei tipi di dati più fondamentali e ampiamente utilizzati in Python."
   ]
  },
  {
   "cell_type": "code",
   "execution_count": 23,
   "id": "3267c91f",
   "metadata": {},
   "outputs": [
    {
     "name": "stdout",
     "output_type": "stream",
     "text": [
      "Questo è un esempio di stringa.\n",
      "Anche questa è una stringa, ma con virgolette doppie.\n",
      "Le stringhe possono contenere numeri, come 123, e simboli, come @#$.\n"
     ]
    }
   ],
   "source": [
    "stringa_singola = 'Questo è un esempio di stringa.'\n",
    "stringa_doppia = \"Anche questa è una stringa, ma con virgolette doppie.\"\n",
    "stringa_mista = 'Le stringhe possono contenere numeri, come 123, e simboli, come @#$.'\n",
    "\n",
    "print(stringa_singola)\n",
    "print(stringa_doppia)\n",
    "print(stringa_mista)"
   ]
  },
  {
   "cell_type": "code",
   "execution_count": 39,
   "id": "a19b03c5",
   "metadata": {},
   "outputs": [
    {
     "name": "stdout",
     "output_type": "stream",
     "text": [
      "Ciao mondo!\n"
     ]
    }
   ],
   "source": [
    "# Concatenazione di stringhe\n",
    "# Definizione di due stringhe\n",
    "stringa1 = \"Ciao\"\n",
    "stringa2 = \"mondo!\"\n",
    "\n",
    "# Concatenazione delle stringhe\n",
    "stringa_concatenata = stringa1 + \" \" + stringa2\n",
    "print(stringa_concatenata)  # Output: Ciao mondo!\n"
   ]
  },
  {
   "cell_type": "code",
   "execution_count": 40,
   "id": "f3d97edf",
   "metadata": {},
   "outputs": [
    {
     "name": "stdout",
     "output_type": "stream",
     "text": [
      "P\n",
      "y\n",
      "n\n"
     ]
    }
   ],
   "source": [
    "# Accesso ai caratteri di una stringa tramite indicizzazione\n",
    "# Accesso ai singoli caratteri di una stringa\n",
    "testo = \"Python\"\n",
    "print(testo[0])  # Output: P\n",
    "print(testo[1])  # Output: y\n",
    "print(testo[-1])  # Output: n (ultimo carattere)\n"
   ]
  },
  {
   "cell_type": "code",
   "execution_count": 41,
   "id": "4c1e55ca",
   "metadata": {},
   "outputs": [
    {
     "name": "stdout",
     "output_type": "stream",
     "text": [
      "è un linguag\n"
     ]
    }
   ],
   "source": [
    "# Taglio di una stringa per ottenere una sottostringa\n",
    "testo = \"Python è un linguaggio di programmazione\"\n",
    "sottostringa = testo[7:19]\n",
    "print(sottostringa)  # Output: è un linguag\n"
   ]
  },
  {
   "cell_type": "code",
   "execution_count": 42,
   "id": "7c2ece5b",
   "metadata": {},
   "outputs": [
    {
     "name": "stdout",
     "output_type": "stream",
     "text": [
      "La parola 'linguaggio' è presente nella stringa.\n"
     ]
    }
   ],
   "source": [
    "# Ricerca di una sottostringa all'interno di una stringa\n",
    "testo = \"Python è un linguaggio di programmazione\"\n",
    "if \"linguaggio\" in testo:\n",
    "    print(\"La parola 'linguaggio' è presente nella stringa.\")\n"
   ]
  },
  {
   "cell_type": "markdown",
   "id": "05d0f9b1",
   "metadata": {},
   "source": [
    "### - LE TUPLE"
   ]
  },
  {
   "cell_type": "markdown",
   "id": "0b572e8f",
   "metadata": {},
   "source": [
    "Una tuple è una sequenza ordinata e immutabile di elementi. Le tuple sono simili alle liste, ma differiscono per il fatto che le tuple sono immutabili, il che significa che una volta definite, non è possibile modificarle. Le tuple sono definite tra parentesi tonde () e gli elementi sono separati da virgole."
   ]
  },
  {
   "cell_type": "markdown",
   "id": "fc1d0d06",
   "metadata": {},
   "source": [
    "Come le liste, le tuple possono contenere elementi di qualsiasi tipo di dato, inclusi numeri, stringhe, tuple annidate, liste, dizionari e così via. Tuttavia, poiché le tuple sono immutabili, non è possibile aggiungere, rimuovere o modificare gli elementi all'interno di una tuple dopo la sua creazione. Le tuple sono spesso utilizzate per rappresentare collezioni di dati che non devono essere modificate."
   ]
  },
  {
   "cell_type": "code",
   "execution_count": 24,
   "id": "94bff0c9",
   "metadata": {},
   "outputs": [
    {
     "name": "stdout",
     "output_type": "stream",
     "text": [
      "(1, 2, 3, 4, 5)\n",
      "('ciao', 'mondo', '!')\n",
      "(1, 'due', 3.0)\n"
     ]
    }
   ],
   "source": [
    "tuple_numeri = (1, 2, 3, 4, 5)\n",
    "tuple_stringhe = (\"ciao\", \"mondo\", \"!\")\n",
    "tuple_mista = (1, \"due\", 3.0)\n",
    "\n",
    "print(tuple_numeri)  # Output: (1, 2, 3, 4, 5)\n",
    "print(tuple_stringhe)  # Output: ('ciao', 'mondo', '!')\n",
    "print(tuple_mista)  # Output: (1, 'due', 3.0)"
   ]
  },
  {
   "cell_type": "code",
   "execution_count": 43,
   "id": "584e8640",
   "metadata": {},
   "outputs": [
    {
     "name": "stdout",
     "output_type": "stream",
     "text": [
      "(1, 2, 3, 4, 5)\n"
     ]
    }
   ],
   "source": [
    "# Creazione di una tuple\n",
    "tuple1 = (1, 2, 3, 4, 5)\n",
    "print(tuple1)"
   ]
  },
  {
   "cell_type": "code",
   "execution_count": 44,
   "id": "235fa499",
   "metadata": {},
   "outputs": [
    {
     "name": "stdout",
     "output_type": "stream",
     "text": [
      "1\n",
      "3\n"
     ]
    }
   ],
   "source": [
    "# Accesso agli elementi di una tuple\n",
    "tuple1 = (1, 2, 3, 4, 5)\n",
    "print(tuple1[0])  # Stampa il primo elemento della tuple\n",
    "print(tuple1[2])  # Stampa il terzo elemento della tuple"
   ]
  },
  {
   "cell_type": "code",
   "execution_count": 45,
   "id": "734180f2",
   "metadata": {},
   "outputs": [
    {
     "name": "stdout",
     "output_type": "stream",
     "text": [
      "1\n",
      "2\n",
      "3\n",
      "4\n",
      "5\n"
     ]
    }
   ],
   "source": [
    "# Iterazione attraverso una tuple\n",
    "tuple1 = (1, 2, 3, 4, 5)\n",
    "for item in tuple1:\n",
    "    print(item)\n"
   ]
  },
  {
   "cell_type": "code",
   "execution_count": 46,
   "id": "c233263f",
   "metadata": {},
   "outputs": [
    {
     "name": "stdout",
     "output_type": "stream",
     "text": [
      "(1, 2, 3, 4, 5, 6)\n"
     ]
    }
   ],
   "source": [
    "# Concatenazione di tuple\n",
    "tuple1 = (1, 2, 3)\n",
    "tuple2 = (4, 5, 6)\n",
    "tuple3 = tuple1 + tuple2\n",
    "print(tuple3)\n"
   ]
  },
  {
   "cell_type": "code",
   "execution_count": 47,
   "id": "5152a7f3",
   "metadata": {},
   "outputs": [
    {
     "name": "stdout",
     "output_type": "stream",
     "text": [
      "(2, 3, 4)\n"
     ]
    }
   ],
   "source": [
    "# Slicing di tuple\n",
    "tuple1 = (1, 2, 3, 4, 5)\n",
    "slice_tuple = tuple1[1:4]  # Estrae una porzione della tuple\n",
    "print(slice_tuple)\n"
   ]
  },
  {
   "cell_type": "code",
   "execution_count": 48,
   "id": "f88467e3",
   "metadata": {},
   "outputs": [
    {
     "name": "stdout",
     "output_type": "stream",
     "text": [
      "3 è presente nella tuple.\n"
     ]
    }
   ],
   "source": [
    "# Verifica di un elemento nella tuple\n",
    "tuple1 = (1, 2, 3, 4, 5)\n",
    "if 3 in tuple1:\n",
    "    print(\"3 è presente nella tuple.\")\n"
   ]
  },
  {
   "cell_type": "code",
   "execution_count": 49,
   "id": "ec274041",
   "metadata": {},
   "outputs": [
    {
     "name": "stdout",
     "output_type": "stream",
     "text": [
      "('apple', 5, True)\n"
     ]
    }
   ],
   "source": [
    "# Creazione di tuple con valori di tipo diverso\n",
    "mixed_tuple = (\"apple\", 5, True)\n",
    "print(mixed_tuple)\n"
   ]
  },
  {
   "cell_type": "code",
   "execution_count": 50,
   "id": "48716b3a",
   "metadata": {},
   "outputs": [
    {
     "name": "stdout",
     "output_type": "stream",
     "text": [
      "x = 3\n",
      "y = 7\n"
     ]
    }
   ],
   "source": [
    "# Assegnazione multipla utilizzando tuple\n",
    "point = (3, 7)\n",
    "x, y = point\n",
    "print(\"x =\", x)\n",
    "print(\"y =\", y)\n"
   ]
  },
  {
   "cell_type": "markdown",
   "id": "86312c4d",
   "metadata": {},
   "source": [
    "### - GLI INSIEMI IMMUTABILI"
   ]
  },
  {
   "cell_type": "markdown",
   "id": "28566e4f",
   "metadata": {},
   "source": [
    "Un insieme immutabile è una collezione non ordinata di elementi unici che non può essere modificata dopo la sua creazione. Gli insiemi immutabili sono rappresentati dall'oggetto frozenset. Come gli insiemi ordinari, gli insiemi immutabili possono contenere elementi di qualsiasi tipo di dato immutabile, come numeri, stringhe, tuple, ma non possono contenere elementi mutabili come liste o altri insiemi."
   ]
  },
  {
   "cell_type": "markdown",
   "id": "4f0e3cba",
   "metadata": {},
   "source": [
    "Una volta creato un insieme immutabile, non è possibile aggiungere, rimuovere o modificare gli elementi al suo interno. Gli insiemi immutabili sono utilizzati quando si desidera avere una collezione di elementi unici che non può essere modificata."
   ]
  },
  {
   "cell_type": "code",
   "execution_count": 25,
   "id": "97aeb03f",
   "metadata": {},
   "outputs": [
    {
     "name": "stdout",
     "output_type": "stream",
     "text": [
      "frozenset({1, 2, 3, 4, 5})\n"
     ]
    }
   ],
   "source": [
    "insieme_imm = frozenset([1, 2, 3, 4, 5])\n",
    "print(insieme_imm)  # Output: frozenset({1, 2, 3, 4, 5})"
   ]
  },
  {
   "cell_type": "code",
   "execution_count": 51,
   "id": "69db7fb1",
   "metadata": {},
   "outputs": [
    {
     "name": "stdout",
     "output_type": "stream",
     "text": [
      "1\n",
      "2\n",
      "3\n",
      "4\n",
      "5\n"
     ]
    }
   ],
   "source": [
    "# Accesso agli elementi di un insieme immutabile\n",
    "immutable_set = frozenset({1, 2, 3, 4, 5})\n",
    "for item in immutable_set:\n",
    "    print(item)\n"
   ]
  },
  {
   "cell_type": "code",
   "execution_count": 52,
   "id": "ddf3d1b9",
   "metadata": {},
   "outputs": [
    {
     "name": "stdout",
     "output_type": "stream",
     "text": [
      "frozenset({1, 2, 3, 4, 5})\n"
     ]
    }
   ],
   "source": [
    "# Unione di insiemi immutabili\n",
    "set1 = frozenset({1, 2, 3})\n",
    "set2 = frozenset({3, 4, 5})\n",
    "union_set = set1 | set2\n",
    "print(union_set)\n"
   ]
  },
  {
   "cell_type": "code",
   "execution_count": 53,
   "id": "1bb7548e",
   "metadata": {},
   "outputs": [
    {
     "name": "stdout",
     "output_type": "stream",
     "text": [
      "frozenset({3, 4})\n"
     ]
    }
   ],
   "source": [
    "# Intersezione di insiemi immutabili\n",
    "set1 = frozenset({1, 2, 3, 4})\n",
    "set2 = frozenset({3, 4, 5, 6})\n",
    "intersection_set = set1 & set2\n",
    "print(intersection_set)\n"
   ]
  },
  {
   "cell_type": "code",
   "execution_count": 54,
   "id": "dbb7779c",
   "metadata": {},
   "outputs": [
    {
     "name": "stdout",
     "output_type": "stream",
     "text": [
      "frozenset({1, 2})\n"
     ]
    }
   ],
   "source": [
    "# Differenza di insiemi immutabili\n",
    "set1 = frozenset({1, 2, 3, 4})\n",
    "set2 = frozenset({3, 4, 5, 6})\n",
    "difference_set = set1 - set2\n",
    "print(difference_set)\n"
   ]
  },
  {
   "cell_type": "code",
   "execution_count": 55,
   "id": "a7124107",
   "metadata": {},
   "outputs": [
    {
     "name": "stdout",
     "output_type": "stream",
     "text": [
      "set2 è un sottoinsieme di set1\n"
     ]
    }
   ],
   "source": [
    "# Verifica di un sottoinsieme in un insieme immutabile\n",
    "set1 = frozenset({1, 2, 3})\n",
    "set2 = frozenset({1, 2})\n",
    "if set2.issubset(set1):\n",
    "    print(\"set2 è un sottoinsieme di set1\")\n"
   ]
  },
  {
   "cell_type": "code",
   "execution_count": 56,
   "id": "66abd4f5",
   "metadata": {},
   "outputs": [
    {
     "name": "stdout",
     "output_type": "stream",
     "text": [
      "set1 e set2 sono disgiunti\n"
     ]
    }
   ],
   "source": [
    "# Verifica di disgiunzione tra insiemi immutabili\n",
    "set1 = frozenset({1, 2, 3})\n",
    "set2 = frozenset({4, 5, 6})\n",
    "if set1.isdisjoint(set2):\n",
    "    print(\"set1 e set2 sono disgiunti\")\n"
   ]
  }
 ],
 "metadata": {
  "kernelspec": {
   "display_name": "Python 3 (ipykernel)",
   "language": "python",
   "name": "python3"
  },
  "language_info": {
   "codemirror_mode": {
    "name": "ipython",
    "version": 3
   },
   "file_extension": ".py",
   "mimetype": "text/x-python",
   "name": "python",
   "nbconvert_exporter": "python",
   "pygments_lexer": "ipython3",
   "version": "3.11.4"
  }
 },
 "nbformat": 4,
 "nbformat_minor": 5
}
